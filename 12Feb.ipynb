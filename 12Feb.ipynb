{
 "cells": [
  {
   "cell_type": "markdown",
   "id": "2b80d43b",
   "metadata": {},
   "source": [
    "### Q1. What is an Exception in python? Write the difference between exception and syntax error."
   ]
  },
  {
   "cell_type": "markdown",
   "id": "d1b50114",
   "metadata": {},
   "source": [
    "+ When in the runtime an error that occurs after passing the syntax test is called exception. Exception are not syntaxically wrong but instead they have incorrect logic due to which program may fail to give desired output.\n",
    "\n",
    "+ Exceptions are those which can be handled at the run time whereas syntax errors cannot be handled."
   ]
  },
  {
   "cell_type": "markdown",
   "id": "1e0a0fdb",
   "metadata": {},
   "source": [
    "### Q2. What happens when an exception is not handled? Explain with an example."
   ]
  },
  {
   "cell_type": "markdown",
   "id": "cf07d6e1",
   "metadata": {},
   "source": [
    "When an exception is not handled then execution can be of program will be terminated by the compile i.e program will crash as it dont know what to do next. For example lets divide a number with zero, the compiler will try to divide the number and will then throw a error that ZeroDivisionError i.e. cannot divide a number with zero."
   ]
  },
  {
   "cell_type": "code",
   "execution_count": 1,
   "id": "40e27a35",
   "metadata": {},
   "outputs": [
    {
     "ename": "ZeroDivisionError",
     "evalue": "division by zero",
     "output_type": "error",
     "traceback": [
      "\u001b[1;31m---------------------------------------------------------------------------\u001b[0m",
      "\u001b[1;31mZeroDivisionError\u001b[0m                         Traceback (most recent call last)",
      "\u001b[1;32m~\\AppData\\Local\\Temp\\ipykernel_5000\\404170220.py\u001b[0m in \u001b[0;36m<module>\u001b[1;34m\u001b[0m\n\u001b[0;32m      2\u001b[0m     \u001b[0mdivision_of_x_and_y\u001b[0m \u001b[1;33m=\u001b[0m \u001b[0mx\u001b[0m\u001b[1;33m/\u001b[0m\u001b[0my\u001b[0m\u001b[1;33m\u001b[0m\u001b[1;33m\u001b[0m\u001b[0m\n\u001b[0;32m      3\u001b[0m     \u001b[0mprint\u001b[0m\u001b[1;33m(\u001b[0m\u001b[0mdivision_of_x_and_y\u001b[0m\u001b[1;33m)\u001b[0m\u001b[1;33m\u001b[0m\u001b[1;33m\u001b[0m\u001b[0m\n\u001b[1;32m----> 4\u001b[1;33m \u001b[0mdivision\u001b[0m\u001b[1;33m(\u001b[0m\u001b[1;36m78\u001b[0m\u001b[1;33m,\u001b[0m\u001b[1;36m0\u001b[0m\u001b[1;33m)\u001b[0m\u001b[1;33m\u001b[0m\u001b[1;33m\u001b[0m\u001b[0m\n\u001b[0m",
      "\u001b[1;32m~\\AppData\\Local\\Temp\\ipykernel_5000\\404170220.py\u001b[0m in \u001b[0;36mdivision\u001b[1;34m(x, y)\u001b[0m\n\u001b[0;32m      1\u001b[0m \u001b[1;32mdef\u001b[0m \u001b[0mdivision\u001b[0m\u001b[1;33m(\u001b[0m\u001b[0mx\u001b[0m\u001b[1;33m,\u001b[0m\u001b[0my\u001b[0m\u001b[1;33m)\u001b[0m\u001b[1;33m:\u001b[0m\u001b[1;33m\u001b[0m\u001b[1;33m\u001b[0m\u001b[0m\n\u001b[1;32m----> 2\u001b[1;33m     \u001b[0mdivision_of_x_and_y\u001b[0m \u001b[1;33m=\u001b[0m \u001b[0mx\u001b[0m\u001b[1;33m/\u001b[0m\u001b[0my\u001b[0m\u001b[1;33m\u001b[0m\u001b[1;33m\u001b[0m\u001b[0m\n\u001b[0m\u001b[0;32m      3\u001b[0m     \u001b[0mprint\u001b[0m\u001b[1;33m(\u001b[0m\u001b[0mdivision_of_x_and_y\u001b[0m\u001b[1;33m)\u001b[0m\u001b[1;33m\u001b[0m\u001b[1;33m\u001b[0m\u001b[0m\n\u001b[0;32m      4\u001b[0m \u001b[0mdivision\u001b[0m\u001b[1;33m(\u001b[0m\u001b[1;36m78\u001b[0m\u001b[1;33m,\u001b[0m\u001b[1;36m0\u001b[0m\u001b[1;33m)\u001b[0m\u001b[1;33m\u001b[0m\u001b[1;33m\u001b[0m\u001b[0m\n",
      "\u001b[1;31mZeroDivisionError\u001b[0m: division by zero"
     ]
    }
   ],
   "source": [
    "def division(x,y):\n",
    "    division_of_x_and_y = x/y\n",
    "    print(division_of_x_and_y)\n",
    "division(78,0)"
   ]
  },
  {
   "cell_type": "markdown",
   "id": "cf9d3681",
   "metadata": {},
   "source": [
    "### Q3. Which Python statements are used to catch and handle exceptions? Explain with an example."
   ]
  },
  {
   "cell_type": "markdown",
   "id": "cc5d5059",
   "metadata": {},
   "source": [
    "except is the keyword which is used to handle/catch exception in python."
   ]
  },
  {
   "cell_type": "code",
   "execution_count": 2,
   "id": "e461738f",
   "metadata": {},
   "outputs": [
    {
     "name": "stdout",
     "output_type": "stream",
     "text": [
      "Any number cannot divide with the Zero\n"
     ]
    }
   ],
   "source": [
    "def division(x,y):\n",
    "    try:\n",
    "        division_of_x_and_y = x/y\n",
    "        print(division_of_x_and_y)\n",
    "    except ZeroDivisionError:\n",
    "        print(\"Any number cannot divide with the Zero\")\n",
    "        \n",
    "division(78,0)"
   ]
  },
  {
   "cell_type": "markdown",
   "id": "a0b42ced",
   "metadata": {},
   "source": [
    "### Q4. Explin with an example:\n",
    "### a. try and catch\n",
    "### b. finally\n",
    "### c. raise"
   ]
  },
  {
   "cell_type": "markdown",
   "id": "d42ef4ec",
   "metadata": {},
   "source": [
    "try and catch is the way through which we can handle exception in python. In try block we write the code where we think a exception might occur. Next to try block we write except block which defines the catch mechanism which handles the exception appropriately."
   ]
  },
  {
   "cell_type": "code",
   "execution_count": null,
   "id": "b697b354",
   "metadata": {},
   "outputs": [],
   "source": [
    "def division(a,b):\n",
    "    try:\n",
    "        results = a/b\n",
    "    except ZeroDivisionError:\n",
    "        print(\"can not divide number by zero\")"
   ]
  },
  {
   "cell_type": "markdown",
   "id": "7d57e0fa",
   "metadata": {},
   "source": [
    "finally is block of code which independently run no matter if exception occurs or not. Code inside a finally is run immediately after a try block if exception dosent occur, or if exception occurs it is run immediately after except block is run."
   ]
  },
  {
   "cell_type": "code",
   "execution_count": 2,
   "id": "a517f332",
   "metadata": {},
   "outputs": [
    {
     "name": "stdout",
     "output_type": "stream",
     "text": [
      "3.0\n",
      "Executed!!\n",
      "can not divide number by zero\n",
      "Executed!!\n"
     ]
    }
   ],
   "source": [
    "def division(a,b):\n",
    "    try:\n",
    "        results = a/b\n",
    "        print(results)\n",
    "    except ZeroDivisionError:\n",
    "        print(\"can not divide number by zero\")\n",
    "    finally:\n",
    "        print(\"Executed!!\")\n",
    "        \n",
    "division(3,1)\n",
    "division(3,0)"
   ]
  },
  {
   "cell_type": "markdown",
   "id": "8d5120ad",
   "metadata": {},
   "source": [
    "raise keyword is used when we implicitly want to raise an exception in program. The raise statement allows the programmer to force a specified exception to occur"
   ]
  },
  {
   "cell_type": "code",
   "execution_count": 4,
   "id": "87d03c54",
   "metadata": {},
   "outputs": [
    {
     "name": "stdout",
     "output_type": "stream",
     "text": [
      "Executed!!\n"
     ]
    },
    {
     "ename": "ZeroDivisionError",
     "evalue": "b must be >0",
     "output_type": "error",
     "traceback": [
      "\u001b[1;31m---------------------------------------------------------------------------\u001b[0m",
      "\u001b[1;31mZeroDivisionError\u001b[0m                         Traceback (most recent call last)",
      "\u001b[1;32m~\\AppData\\Local\\Temp\\ipykernel_15084\\2483376407.py\u001b[0m in \u001b[0;36m<module>\u001b[1;34m\u001b[0m\n\u001b[0;32m      7\u001b[0m     \u001b[1;32mfinally\u001b[0m\u001b[1;33m:\u001b[0m\u001b[1;33m\u001b[0m\u001b[1;33m\u001b[0m\u001b[0m\n\u001b[0;32m      8\u001b[0m         \u001b[0mprint\u001b[0m\u001b[1;33m(\u001b[0m\u001b[1;34m\"Executed!!\"\u001b[0m\u001b[1;33m)\u001b[0m\u001b[1;33m\u001b[0m\u001b[1;33m\u001b[0m\u001b[0m\n\u001b[1;32m----> 9\u001b[1;33m \u001b[0mdivision\u001b[0m\u001b[1;33m(\u001b[0m\u001b[1;36m3\u001b[0m\u001b[1;33m,\u001b[0m\u001b[1;36m0\u001b[0m\u001b[1;33m)\u001b[0m\u001b[1;33m\u001b[0m\u001b[1;33m\u001b[0m\u001b[0m\n\u001b[0m",
      "\u001b[1;32m~\\AppData\\Local\\Temp\\ipykernel_15084\\2483376407.py\u001b[0m in \u001b[0;36mdivision\u001b[1;34m(a, b)\u001b[0m\n\u001b[0;32m      2\u001b[0m     \u001b[1;32mtry\u001b[0m\u001b[1;33m:\u001b[0m\u001b[1;33m\u001b[0m\u001b[1;33m\u001b[0m\u001b[0m\n\u001b[0;32m      3\u001b[0m         \u001b[1;32mif\u001b[0m \u001b[0mb\u001b[0m\u001b[1;33m<=\u001b[0m\u001b[1;36m0\u001b[0m\u001b[1;33m:\u001b[0m\u001b[1;33m\u001b[0m\u001b[1;33m\u001b[0m\u001b[0m\n\u001b[1;32m----> 4\u001b[1;33m             \u001b[1;32mraise\u001b[0m \u001b[0mZeroDivisionError\u001b[0m\u001b[1;33m(\u001b[0m\u001b[1;34m\"b must be >0\"\u001b[0m\u001b[1;33m)\u001b[0m\u001b[1;33m\u001b[0m\u001b[1;33m\u001b[0m\u001b[0m\n\u001b[0m\u001b[0;32m      5\u001b[0m         \u001b[0mresults\u001b[0m\u001b[1;33m=\u001b[0m \u001b[0ma\u001b[0m\u001b[1;33m/\u001b[0m\u001b[0mb\u001b[0m\u001b[1;33m\u001b[0m\u001b[1;33m\u001b[0m\u001b[0m\n\u001b[0;32m      6\u001b[0m         \u001b[0mprint\u001b[0m\u001b[1;33m(\u001b[0m\u001b[0mresults\u001b[0m\u001b[1;33m)\u001b[0m\u001b[1;33m\u001b[0m\u001b[1;33m\u001b[0m\u001b[0m\n",
      "\u001b[1;31mZeroDivisionError\u001b[0m: b must be >0"
     ]
    }
   ],
   "source": [
    "def division(a,b):\n",
    "    try:\n",
    "        if b<=0:\n",
    "            raise ZeroDivisionError(\"b must be >0\")\n",
    "        results= a/b\n",
    "        print(results)\n",
    "    finally:\n",
    "        print(\"Executed!!\")\n",
    "division(3,0)"
   ]
  },
  {
   "cell_type": "markdown",
   "id": "1d1b0c90",
   "metadata": {},
   "source": [
    "### Q5. What are Custom Exceptions in python? Why do we need Custom Exceptions? Explain with an example"
   ]
  },
  {
   "cell_type": "markdown",
   "id": "56ea26a3",
   "metadata": {},
   "source": [
    "In Python, we can define custom exceptions by creating a new class that is derived from the built-in Exception class. During development we need to intergrate business logic where we need to build custom exception as there are no in built such exception. Custom exception helps us handle exception better according to our needs without terminating the program."
   ]
  },
  {
   "cell_type": "code",
   "execution_count": 5,
   "id": "3623e732",
   "metadata": {},
   "outputs": [
    {
     "name": "stdout",
     "output_type": "stream",
     "text": [
      "password condition not satisfied\n",
      "Password set successfully\n"
     ]
    }
   ],
   "source": [
    "class valpass(Exception):\n",
    "    pass\n",
    "\n",
    "def checkpass(a):\n",
    "    try:\n",
    "        if type(a)== int:\n",
    "            raise valpass()\n",
    "        else:\n",
    "            print(\"Password set successfully\")\n",
    "    except valpass:\n",
    "        print(\"password condition not satisfied\")\n",
    "checkpass(4328)\n",
    "checkpass(\"hy12\")"
   ]
  },
  {
   "cell_type": "markdown",
   "id": "31b2d049",
   "metadata": {},
   "source": [
    "### Q6. Create custom exception class. Use this class to handle an exception."
   ]
  },
  {
   "cell_type": "code",
   "execution_count": 7,
   "id": "57f0a2eb",
   "metadata": {},
   "outputs": [
    {
     "name": "stdout",
     "output_type": "stream",
     "text": [
      "Error...... b should be >0\n",
      "Executed!\n"
     ]
    }
   ],
   "source": [
    "class pw(Exception):\n",
    "    pass\n",
    "def division(a,b):\n",
    "    try:\n",
    "        if b<=0:\n",
    "            raise pw(\"b must be >0\")\n",
    "        results = a/b\n",
    "        print(results)\n",
    "    except pw:\n",
    "        print(\"Error...... b should be >0\")\n",
    "    finally:\n",
    "        print(\"Executed!\")\n",
    "division(3,0)"
   ]
  }
 ],
 "metadata": {
  "kernelspec": {
   "display_name": "Python 3 (ipykernel)",
   "language": "python",
   "name": "python3"
  },
  "language_info": {
   "codemirror_mode": {
    "name": "ipython",
    "version": 3
   },
   "file_extension": ".py",
   "mimetype": "text/x-python",
   "name": "python",
   "nbconvert_exporter": "python",
   "pygments_lexer": "ipython3",
   "version": "3.9.13"
  }
 },
 "nbformat": 4,
 "nbformat_minor": 5
}
