{
 "cells": [
  {
   "cell_type": "markdown",
   "id": "ff009fa3",
   "metadata": {},
   "source": [
    "### Q1. Create a vehicle class with an init method having instance variables as name_of_vehicle, max_speed and average_of_vehicle."
   ]
  },
  {
   "cell_type": "code",
   "execution_count": 1,
   "id": "df8dc12c",
   "metadata": {},
   "outputs": [],
   "source": [
    "class vehicle:\n",
    "    def __init__(self):\n",
    "        self.name_of_vehicle= \"Mercedes AMG E Class\"\n",
    "        self.max_speed= 220\n",
    "        self.average_of_vehicle= 20"
   ]
  },
  {
   "cell_type": "markdown",
   "id": "9c7a2919",
   "metadata": {},
   "source": [
    "### Q2. Create a child class car from the vehicle class created in Que 1, which will inherit the vehicle class. Create a method named seating_capacity which takes capacity as an argument and returns the name of the vehicle and its seating capacity."
   ]
  },
  {
   "cell_type": "code",
   "execution_count": 2,
   "id": "f7724302",
   "metadata": {},
   "outputs": [
    {
     "data": {
      "text/plain": [
       "('Mercedes AMG E Class', 4)"
      ]
     },
     "execution_count": 2,
     "metadata": {},
     "output_type": "execute_result"
    }
   ],
   "source": [
    "class vehicle:\n",
    "    def __init__(self):\n",
    "        self.name_of_vehicle= \"Mercedes AMG E Class\"\n",
    "        self.max_speed= 220\n",
    "        self.average_of_vehicle= 20\n",
    "class car(vehicle):\n",
    "    def seating_capacity(self,capacity):\n",
    "        self.capacity = capacity\n",
    "        return self.name_of_vehicle, capacity\n",
    "    \n",
    "cr = car()\n",
    "cr.seating_capacity(4)"
   ]
  },
  {
   "cell_type": "markdown",
   "id": "9c3fe971",
   "metadata": {},
   "source": [
    "### Q3. What is multiple inheritance? Write a python code to demonstrate multiple inheritance."
   ]
  },
  {
   "cell_type": "markdown",
   "id": "cf6c4f18",
   "metadata": {},
   "source": [
    "When a child class inherit properties from more than 2 parent class then it is called multiple inheritance. Child class can access the methods and attributes of both the parent class."
   ]
  },
  {
   "cell_type": "code",
   "execution_count": 3,
   "id": "b3efcd86",
   "metadata": {},
   "outputs": [
    {
     "name": "stdout",
     "output_type": "stream",
     "text": [
      "I am father\n",
      "I am mother\n",
      "I am child\n"
     ]
    }
   ],
   "source": [
    "class father():\n",
    "    def details1():\n",
    "        print(\"I am father\")\n",
    "\n",
    "class mother():\n",
    "    def details2():\n",
    "        print(\"I am mother\")\n",
    "\n",
    "class child(father, mother):\n",
    "    def details3():\n",
    "        print(\"I am child\")\n",
    "        \n",
    "child1 = child()\n",
    "child.details1()\n",
    "child.details2()\n",
    "child.details3()"
   ]
  },
  {
   "cell_type": "markdown",
   "id": "1daa43ef",
   "metadata": {},
   "source": [
    "### Q4. What are getter and setter in python? Create a class and create a getter and a setter method in this class."
   ]
  },
  {
   "cell_type": "markdown",
   "id": "49aedb69",
   "metadata": {},
   "source": [
    "Getters: These are the methods used in Object-Oriented Programming (OOPS) which helps to access the private attributes from a class. \n",
    "Setters: These are the methods used in OOPS feature which helps to set the value to private attributes in a class."
   ]
  },
  {
   "cell_type": "code",
   "execution_count": 4,
   "id": "8d7f68fa",
   "metadata": {},
   "outputs": [],
   "source": [
    "class price_item:\n",
    "    def __init__(self, item1):\n",
    "        self.__item1 = item1\n",
    "        \n",
    "    @property\n",
    "    def get_prize(self):\n",
    "        return self.__item1\n",
    "    \n",
    "    @get_prize.setter\n",
    "    def update_prize(self,item1):\n",
    "        self.__item1 = item1\n",
    "prize=price_item(1000)"
   ]
  },
  {
   "cell_type": "code",
   "execution_count": 5,
   "id": "aeea53b7",
   "metadata": {},
   "outputs": [
    {
     "data": {
      "text/plain": [
       "1000"
      ]
     },
     "execution_count": 5,
     "metadata": {},
     "output_type": "execute_result"
    }
   ],
   "source": [
    "prize.get_prize"
   ]
  },
  {
   "cell_type": "code",
   "execution_count": 6,
   "id": "544a9985",
   "metadata": {},
   "outputs": [],
   "source": [
    "prize.update_prize = 70000"
   ]
  },
  {
   "cell_type": "code",
   "execution_count": 7,
   "id": "e942a869",
   "metadata": {},
   "outputs": [
    {
     "data": {
      "text/plain": [
       "70000"
      ]
     },
     "execution_count": 7,
     "metadata": {},
     "output_type": "execute_result"
    }
   ],
   "source": [
    "prize.get_prize"
   ]
  },
  {
   "cell_type": "markdown",
   "id": "a527ae9f",
   "metadata": {},
   "source": [
    "### Q5.What is method overriding in python? Write a python code to demonstrate method overriding."
   ]
  },
  {
   "cell_type": "markdown",
   "id": "84d91798",
   "metadata": {},
   "source": [
    "Method overriding is a feature of object-oriented programming languages where the subclass or child class can provide the program with specific characteristics or a specific implementation process of data provided that are already defined in the parent class or superclass."
   ]
  },
  {
   "cell_type": "code",
   "execution_count": 8,
   "id": "a834fe3d",
   "metadata": {},
   "outputs": [
    {
     "name": "stdout",
     "output_type": "stream",
     "text": [
      "hello\n",
      "hyy\n",
      "every one\n",
      "everybody\n"
     ]
    }
   ],
   "source": [
    "class one:\n",
    "    def __init__(self):\n",
    "        print(\"hello\")\n",
    "    def greet(self):\n",
    "        print(\"every one\")\n",
    "class second(one):\n",
    "    def __init__(self):\n",
    "        print(\"hyy\")\n",
    "    def greet(self):\n",
    "        print(\"everybody\")\n",
    "        \n",
    "o = one()\n",
    "s = second()\n",
    "o.greet()\n",
    "s.greet()"
   ]
  }
 ],
 "metadata": {
  "kernelspec": {
   "display_name": "Python 3 (ipykernel)",
   "language": "python",
   "name": "python3"
  },
  "language_info": {
   "codemirror_mode": {
    "name": "ipython",
    "version": 3
   },
   "file_extension": ".py",
   "mimetype": "text/x-python",
   "name": "python",
   "nbconvert_exporter": "python",
   "pygments_lexer": "ipython3",
   "version": "3.9.13"
  }
 },
 "nbformat": 4,
 "nbformat_minor": 5
}
