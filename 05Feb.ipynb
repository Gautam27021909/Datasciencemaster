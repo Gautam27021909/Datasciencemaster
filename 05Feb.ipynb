{
 "cells": [
  {
   "cell_type": "markdown",
   "id": "11c57239",
   "metadata": {},
   "source": [
    "### Q1. Explain Class and Object with respect to Object-Oriented Programming. Give a suitable example."
   ]
  },
  {
   "cell_type": "markdown",
   "id": "9028bb64",
   "metadata": {},
   "source": [
    "Ans: Classes are user-defined data types that act as the blueprint for individual objects, attributes and methods. Objects are instances of a class created with specifically defined data. Objects can correspond to real-world objects or an abstract entity. When class is defined initially, the description is the only object that is defined."
   ]
  },
  {
   "cell_type": "code",
   "execution_count": 1,
   "id": "f8483d80",
   "metadata": {},
   "outputs": [
    {
     "name": "stdout",
     "output_type": "stream",
     "text": [
      "Data Science Master\n"
     ]
    }
   ],
   "source": [
    "class pwskills:\n",
    "    def msg(self):\n",
    "        print(\"Data Science Master\")\n",
    "        \n",
    "pw=pwskills()\n",
    "pw.msg()"
   ]
  },
  {
   "cell_type": "markdown",
   "id": "1ff9ab29",
   "metadata": {},
   "source": [
    "### Q2. Name the four pillars of OOPs."
   ]
  },
  {
   "cell_type": "markdown",
   "id": "dea4f5f3",
   "metadata": {},
   "source": [
    "Four pillars of OOP's are:\n",
    "\n",
    "    1.Inheritance: To receive a quality, characteristic, etc., from your parents or family.\n",
    "    2.Polymorphism: The condition of occurrence in several different forms.\n",
    "    3.Encapsulation: To enclose something in or as if in a capsule.\n",
    "    4.Abstraction: A general idea rather than one that relates to a particular object, person, or situation."
   ]
  },
  {
   "cell_type": "markdown",
   "id": "5ac28d9b",
   "metadata": {},
   "source": [
    "### Q3. Explain why the init() function is used. Give a suitable example."
   ]
  },
  {
   "cell_type": "markdown",
   "id": "cafc0079",
   "metadata": {},
   "source": [
    "The task of init() method is to initialize(assign values) to the data members of the class when an object of the class is created. It is executed at the time of Object creation. It is run as soon as an object of a class is instantiated. The method is useful to do any initialization you want to do with your object."
   ]
  },
  {
   "cell_type": "code",
   "execution_count": 8,
   "id": "d7e8bb60",
   "metadata": {},
   "outputs": [
    {
     "name": "stdout",
     "output_type": "stream",
     "text": [
      "Gautam , welcome to pwskills\n"
     ]
    }
   ],
   "source": [
    "class pwskills:\n",
    "    def __init__(self,name, number):\n",
    "        self.name=name\n",
    "        self.mobilenumber=number\n",
    "        print(f\"{name} , welcome to pwskills\")\n",
    "pw=pwskills(name= \"Gautam\", number=7894561230)"
   ]
  },
  {
   "cell_type": "markdown",
   "id": "79b1dfd5",
   "metadata": {},
   "source": [
    "### Q4. Why self is used in OOPs? "
   ]
  },
  {
   "cell_type": "markdown",
   "id": "059c3aac",
   "metadata": {},
   "source": [
    "The self is used to represent the instance of the class. With this keyword, you can access the attributes and methods of the class in python. It binds the attributes with the given arguments."
   ]
  },
  {
   "cell_type": "code",
   "execution_count": 15,
   "id": "89aca17b",
   "metadata": {},
   "outputs": [
    {
     "name": "stdout",
     "output_type": "stream",
     "text": [
      "Gautam\n",
      "98.9\n"
     ]
    }
   ],
   "source": [
    "class student_marks:\n",
    "    def __init__(self,Student_name,Stud_marks):\n",
    "        self.name=Student_name\n",
    "        self.marks=Stud_marks\n",
    "student=student_marks(Student_name=\"Gautam\",Stud_marks= 98.9)\n",
    "print(student.name)\n",
    "print(student.marks)"
   ]
  },
  {
   "cell_type": "markdown",
   "id": "9a53100d",
   "metadata": {},
   "source": [
    "### Q5. What is inheritance? Give an example for each type of inheritance."
   ]
  },
  {
   "cell_type": "markdown",
   "id": "12666f85",
   "metadata": {},
   "source": [
    "Inheritance allows us to define a class that inherits all the methods and properties from another class. "
   ]
  },
  {
   "cell_type": "code",
   "execution_count": 17,
   "id": "eb773460",
   "metadata": {},
   "outputs": [
    {
     "name": "stdout",
     "output_type": "stream",
     "text": [
      "This is inside the parent class\n",
      "This is inside the child class\n"
     ]
    }
   ],
   "source": [
    "#singal Inheritance\n",
    "class parent:\n",
    "    def fuc1(self):\n",
    "        print(\"This is inside the parent class\")\n",
    "class child(parent):\n",
    "    def fun2(self):\n",
    "        print(\"This is inside the child class\")\n",
    "        \n",
    "obj=child()\n",
    "obj.fuc1()\n",
    "obj.fun2()"
   ]
  },
  {
   "cell_type": "code",
   "execution_count": 24,
   "id": "3003df99",
   "metadata": {},
   "outputs": [
    {
     "name": "stdout",
     "output_type": "stream",
     "text": [
      "class1\n",
      "class2\n"
     ]
    }
   ],
   "source": [
    "#Multiple Inheritance\n",
    "class c1:\n",
    "    def def1(self):\n",
    "        print(\"class1\")\n",
    "class c2:\n",
    "    def def2(self):\n",
    "        print(\"class2\")\n",
    "class c3(c1,c2):\n",
    "    def def3(self):\n",
    "        self.def1()\n",
    "        self.def2()\n",
    "obj=c3()\n",
    "obj.def3()"
   ]
  },
  {
   "cell_type": "code",
   "execution_count": 39,
   "id": "5a9d8568",
   "metadata": {},
   "outputs": [
    {
     "name": "stdout",
     "output_type": "stream",
     "text": [
      "rohan\n",
      "Grandfather name:-  rohan\n",
      "Father name:-  sohan\n",
      "son name:-  mohan\n"
     ]
    }
   ],
   "source": [
    "class Grandfather:\n",
    "    def __init__(self,grandfathername):\n",
    "        self.grandfathername = grandfathername\n",
    "        \n",
    "class father(Grandfather):\n",
    "    def __init__(self,fathername,grandfathername):\n",
    "        self.fathername=fathername\n",
    "        Grandfather.__init__(self,grandfathername)\n",
    "class son(father):\n",
    "    def __init__(self,sonname,fathername,grandfathername):\n",
    "        self.sonname=sonname\n",
    "        father.__init__(self,fathername,grandfathername)\n",
    "    \n",
    "    def print_name(self):\n",
    "        print(\"Grandfather name:- \" ,self.grandfathername)\n",
    "        print(\"Father name:- \" , self.fathername)\n",
    "        print(\"son name:- \",self.sonname)\n",
    "        \n",
    "obj=son(\"mohan\",\"sohan\",\"rohan\")\n",
    "print(obj.grandfathername)\n",
    "obj.print_name()"
   ]
  },
  {
   "cell_type": "code",
   "execution_count": 44,
   "id": "694524ad",
   "metadata": {},
   "outputs": [
    {
     "name": "stdout",
     "output_type": "stream",
     "text": [
      "This function is in the parent class.\n",
      "This function is in the child1 class.\n",
      "This function is in the parent class.\n",
      "This function is in the child2 class.\n"
     ]
    }
   ],
   "source": [
    "class parent:\n",
    "    def func1(self):\n",
    "        print(\"This function is in the parent class.\")\n",
    "class child1(parent):\n",
    "    def func2(self):\n",
    "        print(\"This function is in the child1 class.\")\n",
    "class child2(parent):\n",
    "    def func3(self):\n",
    "        print(\"This function is in the child2 class.\")\n",
    "obj1 =child1()\n",
    "obj2 =child2()\n",
    "obj1.func1()\n",
    "obj1.func2()\n",
    "obj2.func1()\n",
    "obj2.func3()"
   ]
  },
  {
   "cell_type": "code",
   "execution_count": 45,
   "id": "96ef3b2b",
   "metadata": {},
   "outputs": [
    {
     "name": "stdout",
     "output_type": "stream",
     "text": [
      "This function is in school.\n",
      "This function is in student 1. \n",
      "This function is in student 3.\n"
     ]
    }
   ],
   "source": [
    "class School:\n",
    "    def func1(self):\n",
    "        print(\"This function is in school.\")\n",
    "class Student1(School):\n",
    "    def func2(self):\n",
    "        print(\"This function is in student 1. \")\n",
    "class Student2(School):\n",
    "    def func3(self):\n",
    "        print(\"This function is in student 2.\")\n",
    "class Student3(Student1, School):\n",
    "    def func4(self):\n",
    "        print(\"This function is in student 3.\")\n",
    "        \n",
    "        \n",
    "obj = Student3()\n",
    "obj.func1()\n",
    "obj.func2()\n",
    "obj.func4()\n"
   ]
  }
 ],
 "metadata": {
  "kernelspec": {
   "display_name": "Python 3 (ipykernel)",
   "language": "python",
   "name": "python3"
  },
  "language_info": {
   "codemirror_mode": {
    "name": "ipython",
    "version": 3
   },
   "file_extension": ".py",
   "mimetype": "text/x-python",
   "name": "python",
   "nbconvert_exporter": "python",
   "pygments_lexer": "ipython3",
   "version": "3.9.13"
  }
 },
 "nbformat": 4,
 "nbformat_minor": 5
}
