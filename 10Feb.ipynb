{
 "cells": [
  {
   "cell_type": "markdown",
   "id": "b6760d26",
   "metadata": {},
   "source": [
    "### Q1. Which function is used to open a file? What are the different modes of opening a file? Explain each mode of file opening."
   ]
  },
  {
   "cell_type": "markdown",
   "id": "1a6c7773",
   "metadata": {},
   "source": [
    "##### In Python, we use the open() method to open files. \n",
    "##### r\tOpen a file for reading. (default)\n",
    "##### w\tOpen a file for writing. Creates a new file if it does not exist or truncates the file if it exists.\n",
    "##### x\tOpen a file for exclusive creation. If the file already exists, the operation fails.\n",
    "##### a\tOpen a file for appending at the end of the file without truncating it. Creates a new file if it does not exist.\n",
    "##### t\tOpen in text mode. (default)\n",
    "##### b\tOpen in binary mode.\n",
    "##### +\tOpen a file for updating (reading and writing)"
   ]
  },
  {
   "cell_type": "markdown",
   "id": "02894f99",
   "metadata": {},
   "source": [
    "### Q2. Why close() function is used? Why is it important to close a file?"
   ]
  },
  {
   "cell_type": "markdown",
   "id": "89164152",
   "metadata": {},
   "source": [
    "close() method is used whenever we open() a file because at the end of reading/writing a file we need to release the resources. Closing a file will free up the resources that were tied with the file. If we do not free up the resources the file will be kept open and it wont be able to save the changes"
   ]
  },
  {
   "cell_type": "markdown",
   "id": "e7c3ba5f",
   "metadata": {},
   "source": [
    "### Q3. Write a python program to create a text file. Write ‘I want to become a Data Scientist’ in that file. Then close the file. Open this file and read the content of the file."
   ]
  },
  {
   "cell_type": "code",
   "execution_count": 1,
   "id": "4f6d53e4",
   "metadata": {},
   "outputs": [],
   "source": [
    "f = open(\"pwskill.txt\" , \"w\")\n",
    "f.write(\"I want to become a Data Science\")\n",
    "f.close()"
   ]
  },
  {
   "cell_type": "code",
   "execution_count": 2,
   "id": "727762c5",
   "metadata": {},
   "outputs": [
    {
     "name": "stdout",
     "output_type": "stream",
     "text": [
      "I want to become a Data Science\n"
     ]
    }
   ],
   "source": [
    "f= open(\"pwskill.txt\",\"r\")\n",
    "print(f.read())\n",
    "f.close()"
   ]
  },
  {
   "cell_type": "markdown",
   "id": "b5ff8d72",
   "metadata": {},
   "source": [
    "### Q4. Explain the following with python code: read(), readline() and readlines()."
   ]
  },
  {
   "cell_type": "markdown",
   "id": "90496dc7",
   "metadata": {},
   "source": [
    "Read ( ): Returns the read bytes in the form of a string. Reads n bytes; if n is not specified, then reads the entire file."
   ]
  },
  {
   "cell_type": "code",
   "execution_count": 3,
   "id": "48bbf7f4",
   "metadata": {},
   "outputs": [
    {
     "name": "stdout",
     "output_type": "stream",
     "text": [
      "I want to become a Data Science\n"
     ]
    }
   ],
   "source": [
    "with open(\"pwskill.txt\" ,\"r\") as f:\n",
    "    print(f.read())"
   ]
  },
  {
   "cell_type": "markdown",
   "id": "730172f4",
   "metadata": {},
   "source": [
    "Readline ( ): Reads a line of the file and returns in the form of a string. For specified n, reads at most n bytes. readline ( ) function does not read more than one line at a time; even if n exceeds, it reads only one line. Readline ( ) returns the next line of the file, which contains a newline character in the end. Also, if the end of the file is reached, it will return an empty string."
   ]
  },
  {
   "cell_type": "code",
   "execution_count": 4,
   "id": "c9a4d06f",
   "metadata": {},
   "outputs": [
    {
     "name": "stdout",
     "output_type": "stream",
     "text": [
      "I want to become a Data Science\n"
     ]
    }
   ],
   "source": [
    "with open(\"pwskill.txt\" ,\"r\") as f:\n",
    "    print(f.readline())"
   ]
  },
  {
   "cell_type": "markdown",
   "id": "72d92561",
   "metadata": {},
   "source": [
    "readlines ( ): Reads all the lines and returns them as a string element in a list. Readlines ( ) is used to read all the lines at a single go and then return them as a string element in a list. This function can be used for small files, as it reads the whole file content to the memory, then splits it into separate lines."
   ]
  },
  {
   "cell_type": "code",
   "execution_count": 5,
   "id": "73d0d230",
   "metadata": {},
   "outputs": [
    {
     "name": "stdout",
     "output_type": "stream",
     "text": [
      "['I want to become a Data Science']\n"
     ]
    }
   ],
   "source": [
    "with open(\"pwskill.txt\" ,\"r\") as f:\n",
    "    print(f.readlines())"
   ]
  },
  {
   "cell_type": "markdown",
   "id": "c5ea43e6",
   "metadata": {},
   "source": [
    "### Q6. Explain the write() and writelines() functions. Give a suitable example."
   ]
  },
  {
   "cell_type": "markdown",
   "id": "70f54823",
   "metadata": {},
   "source": [
    "The write() function will write the content in the file without adding any extra characters. The string that is passed to the write() function is written into the opened file. The string may include numbers, special characters, or symbols. While writing data to a file, we must know that the write function does not add a newline character(\\n) to the end of the string. The write() function returns None."
   ]
  },
  {
   "cell_type": "code",
   "execution_count": 6,
   "id": "de579b29",
   "metadata": {},
   "outputs": [],
   "source": [
    "with open(\"pwskill.txt\",\"w\") as f:\n",
    "    f.write(\"this written inside to the pwskill.txt file\")"
   ]
  },
  {
   "cell_type": "markdown",
   "id": "d4684417",
   "metadata": {},
   "source": [
    "This function writes the content of a list to a file. List of strings that is passed to the writelines() function is written into the opened file. Similar to the write() function, the writelines() function does not add a newline character(\\n) to the end of the string."
   ]
  },
  {
   "cell_type": "code",
   "execution_count": 7,
   "id": "50df73b7",
   "metadata": {},
   "outputs": [],
   "source": [
    "with open('pwskill.txt','w') as f:\n",
    "    lst = []\n",
    "    for i in range(3):\n",
    "        lst.append(f\"This is line {i} \")\n",
    "        lst.append('\\n')\n",
    "    f.writelines(lst)"
   ]
  }
 ],
 "metadata": {
  "kernelspec": {
   "display_name": "Python 3 (ipykernel)",
   "language": "python",
   "name": "python3"
  },
  "language_info": {
   "codemirror_mode": {
    "name": "ipython",
    "version": 3
   },
   "file_extension": ".py",
   "mimetype": "text/x-python",
   "name": "python",
   "nbconvert_exporter": "python",
   "pygments_lexer": "ipython3",
   "version": "3.9.13"
  }
 },
 "nbformat": 4,
 "nbformat_minor": 5
}
