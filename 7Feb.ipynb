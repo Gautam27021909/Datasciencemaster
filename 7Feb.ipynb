{
 "cells": [
  {
   "cell_type": "markdown",
   "id": "15734fa8",
   "metadata": {},
   "source": [
    "### Q1. You are writing code for a company. The requirement of the company is that you create a python function that will check whether the password entered by the user is correct or not. The function should take the password as input and return the string “Valid Password” if the entered password follows the below-given password guidelines else it should return “Invalid Password”.\n",
    "#### Note: 1. The Password should contain at least two uppercase letters and at least two lowercase letters.\n",
    "#### 2. The Password should contain at least a number and three special characters.\n",
    "#### 3. The length of the password should be 10 characters long."
   ]
  },
  {
   "cell_type": "code",
   "execution_count": 2,
   "id": "c8f79118",
   "metadata": {},
   "outputs": [
    {
     "name": "stdout",
     "output_type": "stream",
     "text": [
      "Enter the Password:- XYq1_$@das\n"
     ]
    },
    {
     "data": {
      "text/plain": [
       "'Valid Password'"
      ]
     },
     "execution_count": 2,
     "metadata": {},
     "output_type": "execute_result"
    }
   ],
   "source": [
    "def password_check(n):\n",
    "    length, Ucount, Lcount, Ncount, Scount = 0,0,0,0,0\n",
    "    for i in n:\n",
    "        length+=1\n",
    "        if i.isupper():\n",
    "            Ucount+=1\n",
    "        elif i.islower():\n",
    "            Lcount+=1\n",
    "        elif i.isnumeric():\n",
    "            Ncount+=1\n",
    "        elif i in '[@_!#$%^&*()<>?/\\|}{~:]':\n",
    "            Scount+=1\n",
    "    if Ucount>=2 and Lcount>=2 and Ncount>=1and Scount>=3 and length==10 :\n",
    "        return \"Valid Password\"\n",
    "    else:\n",
    "        return \"Invalid Password\"\n",
    "password_check(n = input(\"Enter the Password:- \"))"
   ]
  },
  {
   "cell_type": "markdown",
   "id": "fa74d5c7",
   "metadata": {},
   "source": [
    "#### Q2. Solve the below-given questions using at least one of the following:\n",
    "#### 1. Lambda function\n",
    "#### 2. Filter function\n",
    "#### 3. Map function\n",
    "#### 4. List Comprehension\n",
    "#####     Check if the string starts with a particular letter\n",
    "#####     Check if the string is numeric\n",
    "#####     Sort a list of tuples having fruit names and their quantity. [(\"mango\",99),(\"orange\",80), (\"grapes\", 1000)-\n",
    "#####     Find the squares of numbers from 1 to 10\n",
    "#####     Find the cube root of numbers from 1 to 10\n",
    "#####     Check if a given number is even\n",
    "#####     Filter odd numbers from the given list.\n",
    "#####     [1,2,3,4,5,6,7,8,9,10]\n",
    "#####     Sort a list of integers into positive and negative integers lists.\n",
    "#####     [1,2,3,4,5,6,-1,-2,-3,-4,-5,0]"
   ]
  },
  {
   "cell_type": "code",
   "execution_count": 9,
   "id": "eb9d1438",
   "metadata": {},
   "outputs": [
    {
     "name": "stdout",
     "output_type": "stream",
     "text": [
      "True\n"
     ]
    }
   ],
   "source": [
    "str1 = \"pwskill\"\n",
    "x1 = lambda x : True if str[0] == \"p\" else False\n",
    "print(x1(str1))"
   ]
  },
  {
   "cell_type": "code",
   "execution_count": 11,
   "id": "eb544363",
   "metadata": {},
   "outputs": [
    {
     "name": "stdout",
     "output_type": "stream",
     "text": [
      "True\n"
     ]
    }
   ],
   "source": [
    "str2 = \"108\"\n",
    "x2 =  lambda x: True if str2.isnumeric() else False\n",
    "print(x2(str2))"
   ]
  },
  {
   "cell_type": "code",
   "execution_count": 14,
   "id": "2c404a05",
   "metadata": {},
   "outputs": [
    {
     "name": "stdout",
     "output_type": "stream",
     "text": [
      "[('orange', 80), ('mango', 99), ('grapes', 1000)]\n"
     ]
    }
   ],
   "source": [
    "F= [(\"mango\",99),(\"orange\",80), (\"grapes\", 1000)]\n",
    "F.sort(key = lambda x : x[1])\n",
    "print(F)"
   ]
  },
  {
   "cell_type": "code",
   "execution_count": 17,
   "id": "6e8bdd9b",
   "metadata": {},
   "outputs": [
    {
     "name": "stdout",
     "output_type": "stream",
     "text": [
      "1\n",
      "4\n",
      "9\n",
      "16\n",
      "25\n",
      "36\n",
      "49\n",
      "64\n",
      "81\n",
      "100\n"
     ]
    }
   ],
   "source": [
    "sqrt = lambda x: x**2\n",
    "list1 = [1,2,3,4,5,6,7,8,9,10]\n",
    "for i in list1:\n",
    "    print(sqrt(i))"
   ]
  },
  {
   "cell_type": "code",
   "execution_count": 22,
   "id": "43aa4ff4",
   "metadata": {},
   "outputs": [
    {
     "name": "stdout",
     "output_type": "stream",
     "text": [
      "1.0\n",
      "1.2599210498948732\n",
      "1.4422495703074083\n",
      "1.5874010519681994\n",
      "1.7099759466766968\n",
      "1.8171205928321397\n",
      "1.912931182772389\n",
      "2.0\n",
      "2.080083823051904\n",
      "2.154434690031884\n"
     ]
    }
   ],
   "source": [
    "s1 = lambda x: pow(x,1/3)\n",
    "lst = [1,2,3,4,5,6,7,8,9,10]\n",
    "for i in lst:\n",
    "    print(s1(i))"
   ]
  },
  {
   "cell_type": "code",
   "execution_count": 26,
   "id": "383f4294",
   "metadata": {},
   "outputs": [
    {
     "name": "stdout",
     "output_type": "stream",
     "text": [
      "True\n"
     ]
    }
   ],
   "source": [
    "obj = lambda x : True if x%2==0 else False \n",
    "print(obj(44))"
   ]
  },
  {
   "cell_type": "code",
   "execution_count": 29,
   "id": "04d50e26",
   "metadata": {},
   "outputs": [
    {
     "data": {
      "text/plain": [
       "[1, 3, 5, 7, 9]"
      ]
     },
     "execution_count": 29,
     "metadata": {},
     "output_type": "execute_result"
    }
   ],
   "source": [
    "lst = [1,2,3,4,5,6,7,8,9,10]\n",
    "list(filter(lambda x: x%2==1,lst)) "
   ]
  },
  {
   "cell_type": "code",
   "execution_count": 30,
   "id": "22bd1732",
   "metadata": {},
   "outputs": [
    {
     "name": "stdout",
     "output_type": "stream",
     "text": [
      "[1, 2, 3, 4, 5, 6, 0] [-1, -2, -3, -4, -5]\n"
     ]
    }
   ],
   "source": [
    "lst = [1,2,3,4,5,6,-1,-2,-3,-4,-5,0]\n",
    "B = [x for x in lst if x >= 0]\n",
    "C = [x for x in lst if x < 0]\n",
    "print(B,C)"
   ]
  }
 ],
 "metadata": {
  "kernelspec": {
   "display_name": "Python 3 (ipykernel)",
   "language": "python",
   "name": "python3"
  },
  "language_info": {
   "codemirror_mode": {
    "name": "ipython",
    "version": 3
   },
   "file_extension": ".py",
   "mimetype": "text/x-python",
   "name": "python",
   "nbconvert_exporter": "python",
   "pygments_lexer": "ipython3",
   "version": "3.9.13"
  }
 },
 "nbformat": 4,
 "nbformat_minor": 5
}
